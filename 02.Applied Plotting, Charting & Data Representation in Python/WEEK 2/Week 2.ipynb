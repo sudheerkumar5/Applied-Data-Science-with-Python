{
 "cells": [
  {
   "cell_type": "markdown",
   "metadata": {},
   "source": [
    "# Basic Plotting with matplotlib"
   ]
  },
  {
   "cell_type": "markdown",
   "metadata": {},
   "source": [
    "You can show matplotlib figures directly in the notebook by using the `%matplotlib notebook` and `%matplotlib inline` magic commands. \n",
    "\n",
    "`%matplotlib notebook` provides an interactive environment."
   ]
  },
  {
   "cell_type": "code",
   "execution_count": 1,
   "metadata": {
    "collapsed": false
   },
   "outputs": [],
   "source": [
    "%matplotlib notebook"
   ]
  },
  {
   "cell_type": "code",
   "execution_count": 2,
   "metadata": {
    "collapsed": false
   },
   "outputs": [
    {
     "data": {
      "text/plain": [
       "'nbAgg'"
      ]
     },
     "execution_count": 2,
     "metadata": {},
     "output_type": "execute_result"
    }
   ],
   "source": [
    "import matplotlib as mpl\n",
    "mpl.get_backend()"
   ]
  },
  {
   "cell_type": "code",
   "execution_count": 3,
   "metadata": {
    "collapsed": false
   },
   "outputs": [],
   "source": [
    "import matplotlib.pyplot as plt\n",
    "plt.plot?"
   ]
  },
  {
   "cell_type": "code",
   "execution_count": 4,
   "metadata": {
    "collapsed": false
   },
   "outputs": [
    {
     "data": {
      "application/javascript": [
       "/* Put everything inside the global mpl namespace */\n",
       "window.mpl = {};\n",
       "\n",
       "\n",
       "mpl.get_websocket_type = function() {\n",
       "    if (typeof(WebSocket) !== 'undefined') {\n",
       "        return WebSocket;\n",
       "    } else if (typeof(MozWebSocket) !== 'undefined') {\n",
       "        return MozWebSocket;\n",
       "    } else {\n",
       "        alert('Your browser does not have WebSocket support.' +\n",
       "              'Please try Chrome, Safari or Firefox ≥ 6. ' +\n",
       "              'Firefox 4 and 5 are also supported but you ' +\n",
       "              'have to enable WebSockets in about:config.');\n",
       "    };\n",
       "}\n",
       "\n",
       "mpl.figure = function(figure_id, websocket, ondownload, parent_element) {\n",
       "    this.id = figure_id;\n",
       "\n",
       "    this.ws = websocket;\n",
       "\n",
       "    this.supports_binary = (this.ws.binaryType != undefined);\n",
       "\n",
       "    if (!this.supports_binary) {\n",
       "        var warnings = document.getElementById(\"mpl-warnings\");\n",
       "        if (warnings) {\n",
       "            warnings.style.display = 'block';\n",
       "            warnings.textContent = (\n",
       "                \"This browser does not support binary websocket messages. \" +\n",
       "                    \"Performance may be slow.\");\n",
       "        }\n",
       "    }\n",
       "\n",
       "    this.imageObj = new Image();\n",
       "\n",
       "    this.context = undefined;\n",
       "    this.message = undefined;\n",
       "    this.canvas = undefined;\n",
       "    this.rubberband_canvas = undefined;\n",
       "    this.rubberband_context = undefined;\n",
       "    this.format_dropdown = undefined;\n",
       "\n",
       "    this.image_mode = 'full';\n",
       "\n",
       "    this.root = $('<div/>');\n",
       "    this._root_extra_style(this.root)\n",
       "    this.root.attr('style', 'display: inline-block');\n",
       "\n",
       "    $(parent_element).append(this.root);\n",
       "\n",
       "    this._init_header(this);\n",
       "    this._init_canvas(this);\n",
       "    this._init_toolbar(this);\n",
       "\n",
       "    var fig = this;\n",
       "\n",
       "    this.waiting = false;\n",
       "\n",
       "    this.ws.onopen =  function () {\n",
       "            fig.send_message(\"supports_binary\", {value: fig.supports_binary});\n",
       "            fig.send_message(\"send_image_mode\", {});\n",
       "            if (mpl.ratio != 1) {\n",
       "                fig.send_message(\"set_dpi_ratio\", {'dpi_ratio': mpl.ratio});\n",
       "            }\n",
       "            fig.send_message(\"refresh\", {});\n",
       "        }\n",
       "\n",
       "    this.imageObj.onload = function() {\n",
       "            if (fig.image_mode == 'full') {\n",
       "                // Full images could contain transparency (where diff images\n",
       "                // almost always do), so we need to clear the canvas so that\n",
       "                // there is no ghosting.\n",
       "                fig.context.clearRect(0, 0, fig.canvas.width, fig.canvas.height);\n",
       "            }\n",
       "            fig.context.drawImage(fig.imageObj, 0, 0);\n",
       "        };\n",
       "\n",
       "    this.imageObj.onunload = function() {\n",
       "        this.ws.close();\n",
       "    }\n",
       "\n",
       "    this.ws.onmessage = this._make_on_message_function(this);\n",
       "\n",
       "    this.ondownload = ondownload;\n",
       "}\n",
       "\n",
       "mpl.figure.prototype._init_header = function() {\n",
       "    var titlebar = $(\n",
       "        '<div class=\"ui-dialog-titlebar ui-widget-header ui-corner-all ' +\n",
       "        'ui-helper-clearfix\"/>');\n",
       "    var titletext = $(\n",
       "        '<div class=\"ui-dialog-title\" style=\"width: 100%; ' +\n",
       "        'text-align: center; padding: 3px;\"/>');\n",
       "    titlebar.append(titletext)\n",
       "    this.root.append(titlebar);\n",
       "    this.header = titletext[0];\n",
       "}\n",
       "\n",
       "\n",
       "\n",
       "mpl.figure.prototype._canvas_extra_style = function(canvas_div) {\n",
       "\n",
       "}\n",
       "\n",
       "\n",
       "mpl.figure.prototype._root_extra_style = function(canvas_div) {\n",
       "\n",
       "}\n",
       "\n",
       "mpl.figure.prototype._init_canvas = function() {\n",
       "    var fig = this;\n",
       "\n",
       "    var canvas_div = $('<div/>');\n",
       "\n",
       "    canvas_div.attr('style', 'position: relative; clear: both; outline: 0');\n",
       "\n",
       "    function canvas_keyboard_event(event) {\n",
       "        return fig.key_event(event, event['data']);\n",
       "    }\n",
       "\n",
       "    canvas_div.keydown('key_press', canvas_keyboard_event);\n",
       "    canvas_div.keyup('key_release', canvas_keyboard_event);\n",
       "    this.canvas_div = canvas_div\n",
       "    this._canvas_extra_style(canvas_div)\n",
       "    this.root.append(canvas_div);\n",
       "\n",
       "    var canvas = $('<canvas/>');\n",
       "    canvas.addClass('mpl-canvas');\n",
       "    canvas.attr('style', \"left: 0; top: 0; z-index: 0; outline: 0\")\n",
       "\n",
       "    this.canvas = canvas[0];\n",
       "    this.context = canvas[0].getContext(\"2d\");\n",
       "\n",
       "    var backingStore = this.context.backingStorePixelRatio ||\n",
       "\tthis.context.webkitBackingStorePixelRatio ||\n",
       "\tthis.context.mozBackingStorePixelRatio ||\n",
       "\tthis.context.msBackingStorePixelRatio ||\n",
       "\tthis.context.oBackingStorePixelRatio ||\n",
       "\tthis.context.backingStorePixelRatio || 1;\n",
       "\n",
       "    mpl.ratio = (window.devicePixelRatio || 1) / backingStore;\n",
       "\n",
       "    var rubberband = $('<canvas/>');\n",
       "    rubberband.attr('style', \"position: absolute; left: 0; top: 0; z-index: 1;\")\n",
       "\n",
       "    var pass_mouse_events = true;\n",
       "\n",
       "    canvas_div.resizable({\n",
       "        start: function(event, ui) {\n",
       "            pass_mouse_events = false;\n",
       "        },\n",
       "        resize: function(event, ui) {\n",
       "            fig.request_resize(ui.size.width, ui.size.height);\n",
       "        },\n",
       "        stop: function(event, ui) {\n",
       "            pass_mouse_events = true;\n",
       "            fig.request_resize(ui.size.width, ui.size.height);\n",
       "        },\n",
       "    });\n",
       "\n",
       "    function mouse_event_fn(event) {\n",
       "        if (pass_mouse_events)\n",
       "            return fig.mouse_event(event, event['data']);\n",
       "    }\n",
       "\n",
       "    rubberband.mousedown('button_press', mouse_event_fn);\n",
       "    rubberband.mouseup('button_release', mouse_event_fn);\n",
       "    // Throttle sequential mouse events to 1 every 20ms.\n",
       "    rubberband.mousemove('motion_notify', mouse_event_fn);\n",
       "\n",
       "    rubberband.mouseenter('figure_enter', mouse_event_fn);\n",
       "    rubberband.mouseleave('figure_leave', mouse_event_fn);\n",
       "\n",
       "    canvas_div.on(\"wheel\", function (event) {\n",
       "        event = event.originalEvent;\n",
       "        event['data'] = 'scroll'\n",
       "        if (event.deltaY < 0) {\n",
       "            event.step = 1;\n",
       "        } else {\n",
       "            event.step = -1;\n",
       "        }\n",
       "        mouse_event_fn(event);\n",
       "    });\n",
       "\n",
       "    canvas_div.append(canvas);\n",
       "    canvas_div.append(rubberband);\n",
       "\n",
       "    this.rubberband = rubberband;\n",
       "    this.rubberband_canvas = rubberband[0];\n",
       "    this.rubberband_context = rubberband[0].getContext(\"2d\");\n",
       "    this.rubberband_context.strokeStyle = \"#000000\";\n",
       "\n",
       "    this._resize_canvas = function(width, height) {\n",
       "        // Keep the size of the canvas, canvas container, and rubber band\n",
       "        // canvas in synch.\n",
       "        canvas_div.css('width', width)\n",
       "        canvas_div.css('height', height)\n",
       "\n",
       "        canvas.attr('width', width * mpl.ratio);\n",
       "        canvas.attr('height', height * mpl.ratio);\n",
       "        canvas.attr('style', 'width: ' + width + 'px; height: ' + height + 'px;');\n",
       "\n",
       "        rubberband.attr('width', width);\n",
       "        rubberband.attr('height', height);\n",
       "    }\n",
       "\n",
       "    // Set the figure to an initial 600x600px, this will subsequently be updated\n",
       "    // upon first draw.\n",
       "    this._resize_canvas(600, 600);\n",
       "\n",
       "    // Disable right mouse context menu.\n",
       "    $(this.rubberband_canvas).bind(\"contextmenu\",function(e){\n",
       "        return false;\n",
       "    });\n",
       "\n",
       "    function set_focus () {\n",
       "        canvas.focus();\n",
       "        canvas_div.focus();\n",
       "    }\n",
       "\n",
       "    window.setTimeout(set_focus, 100);\n",
       "}\n",
       "\n",
       "mpl.figure.prototype._init_toolbar = function() {\n",
       "    var fig = this;\n",
       "\n",
       "    var nav_element = $('<div/>')\n",
       "    nav_element.attr('style', 'width: 100%');\n",
       "    this.root.append(nav_element);\n",
       "\n",
       "    // Define a callback function for later on.\n",
       "    function toolbar_event(event) {\n",
       "        return fig.toolbar_button_onclick(event['data']);\n",
       "    }\n",
       "    function toolbar_mouse_event(event) {\n",
       "        return fig.toolbar_button_onmouseover(event['data']);\n",
       "    }\n",
       "\n",
       "    for(var toolbar_ind in mpl.toolbar_items) {\n",
       "        var name = mpl.toolbar_items[toolbar_ind][0];\n",
       "        var tooltip = mpl.toolbar_items[toolbar_ind][1];\n",
       "        var image = mpl.toolbar_items[toolbar_ind][2];\n",
       "        var method_name = mpl.toolbar_items[toolbar_ind][3];\n",
       "\n",
       "        if (!name) {\n",
       "            // put a spacer in here.\n",
       "            continue;\n",
       "        }\n",
       "        var button = $('<button/>');\n",
       "        button.addClass('ui-button ui-widget ui-state-default ui-corner-all ' +\n",
       "                        'ui-button-icon-only');\n",
       "        button.attr('role', 'button');\n",
       "        button.attr('aria-disabled', 'false');\n",
       "        button.click(method_name, toolbar_event);\n",
       "        button.mouseover(tooltip, toolbar_mouse_event);\n",
       "\n",
       "        var icon_img = $('<span/>');\n",
       "        icon_img.addClass('ui-button-icon-primary ui-icon');\n",
       "        icon_img.addClass(image);\n",
       "        icon_img.addClass('ui-corner-all');\n",
       "\n",
       "        var tooltip_span = $('<span/>');\n",
       "        tooltip_span.addClass('ui-button-text');\n",
       "        tooltip_span.html(tooltip);\n",
       "\n",
       "        button.append(icon_img);\n",
       "        button.append(tooltip_span);\n",
       "\n",
       "        nav_element.append(button);\n",
       "    }\n",
       "\n",
       "    var fmt_picker_span = $('<span/>');\n",
       "\n",
       "    var fmt_picker = $('<select/>');\n",
       "    fmt_picker.addClass('mpl-toolbar-option ui-widget ui-widget-content');\n",
       "    fmt_picker_span.append(fmt_picker);\n",
       "    nav_element.append(fmt_picker_span);\n",
       "    this.format_dropdown = fmt_picker[0];\n",
       "\n",
       "    for (var ind in mpl.extensions) {\n",
       "        var fmt = mpl.extensions[ind];\n",
       "        var option = $(\n",
       "            '<option/>', {selected: fmt === mpl.default_extension}).html(fmt);\n",
       "        fmt_picker.append(option)\n",
       "    }\n",
       "\n",
       "    // Add hover states to the ui-buttons\n",
       "    $( \".ui-button\" ).hover(\n",
       "        function() { $(this).addClass(\"ui-state-hover\");},\n",
       "        function() { $(this).removeClass(\"ui-state-hover\");}\n",
       "    );\n",
       "\n",
       "    var status_bar = $('<span class=\"mpl-message\"/>');\n",
       "    nav_element.append(status_bar);\n",
       "    this.message = status_bar[0];\n",
       "}\n",
       "\n",
       "mpl.figure.prototype.request_resize = function(x_pixels, y_pixels) {\n",
       "    // Request matplotlib to resize the figure. Matplotlib will then trigger a resize in the client,\n",
       "    // which will in turn request a refresh of the image.\n",
       "    this.send_message('resize', {'width': x_pixels, 'height': y_pixels});\n",
       "}\n",
       "\n",
       "mpl.figure.prototype.send_message = function(type, properties) {\n",
       "    properties['type'] = type;\n",
       "    properties['figure_id'] = this.id;\n",
       "    this.ws.send(JSON.stringify(properties));\n",
       "}\n",
       "\n",
       "mpl.figure.prototype.send_draw_message = function() {\n",
       "    if (!this.waiting) {\n",
       "        this.waiting = true;\n",
       "        this.ws.send(JSON.stringify({type: \"draw\", figure_id: this.id}));\n",
       "    }\n",
       "}\n",
       "\n",
       "\n",
       "mpl.figure.prototype.handle_save = function(fig, msg) {\n",
       "    var format_dropdown = fig.format_dropdown;\n",
       "    var format = format_dropdown.options[format_dropdown.selectedIndex].value;\n",
       "    fig.ondownload(fig, format);\n",
       "}\n",
       "\n",
       "\n",
       "mpl.figure.prototype.handle_resize = function(fig, msg) {\n",
       "    var size = msg['size'];\n",
       "    if (size[0] != fig.canvas.width || size[1] != fig.canvas.height) {\n",
       "        fig._resize_canvas(size[0], size[1]);\n",
       "        fig.send_message(\"refresh\", {});\n",
       "    };\n",
       "}\n",
       "\n",
       "mpl.figure.prototype.handle_rubberband = function(fig, msg) {\n",
       "    var x0 = msg['x0'] / mpl.ratio;\n",
       "    var y0 = (fig.canvas.height - msg['y0']) / mpl.ratio;\n",
       "    var x1 = msg['x1'] / mpl.ratio;\n",
       "    var y1 = (fig.canvas.height - msg['y1']) / mpl.ratio;\n",
       "    x0 = Math.floor(x0) + 0.5;\n",
       "    y0 = Math.floor(y0) + 0.5;\n",
       "    x1 = Math.floor(x1) + 0.5;\n",
       "    y1 = Math.floor(y1) + 0.5;\n",
       "    var min_x = Math.min(x0, x1);\n",
       "    var min_y = Math.min(y0, y1);\n",
       "    var width = Math.abs(x1 - x0);\n",
       "    var height = Math.abs(y1 - y0);\n",
       "\n",
       "    fig.rubberband_context.clearRect(\n",
       "        0, 0, fig.canvas.width, fig.canvas.height);\n",
       "\n",
       "    fig.rubberband_context.strokeRect(min_x, min_y, width, height);\n",
       "}\n",
       "\n",
       "mpl.figure.prototype.handle_figure_label = function(fig, msg) {\n",
       "    // Updates the figure title.\n",
       "    fig.header.textContent = msg['label'];\n",
       "}\n",
       "\n",
       "mpl.figure.prototype.handle_cursor = function(fig, msg) {\n",
       "    var cursor = msg['cursor'];\n",
       "    switch(cursor)\n",
       "    {\n",
       "    case 0:\n",
       "        cursor = 'pointer';\n",
       "        break;\n",
       "    case 1:\n",
       "        cursor = 'default';\n",
       "        break;\n",
       "    case 2:\n",
       "        cursor = 'crosshair';\n",
       "        break;\n",
       "    case 3:\n",
       "        cursor = 'move';\n",
       "        break;\n",
       "    }\n",
       "    fig.rubberband_canvas.style.cursor = cursor;\n",
       "}\n",
       "\n",
       "mpl.figure.prototype.handle_message = function(fig, msg) {\n",
       "    fig.message.textContent = msg['message'];\n",
       "}\n",
       "\n",
       "mpl.figure.prototype.handle_draw = function(fig, msg) {\n",
       "    // Request the server to send over a new figure.\n",
       "    fig.send_draw_message();\n",
       "}\n",
       "\n",
       "mpl.figure.prototype.handle_image_mode = function(fig, msg) {\n",
       "    fig.image_mode = msg['mode'];\n",
       "}\n",
       "\n",
       "mpl.figure.prototype.updated_canvas_event = function() {\n",
       "    // Called whenever the canvas gets updated.\n",
       "    this.send_message(\"ack\", {});\n",
       "}\n",
       "\n",
       "// A function to construct a web socket function for onmessage handling.\n",
       "// Called in the figure constructor.\n",
       "mpl.figure.prototype._make_on_message_function = function(fig) {\n",
       "    return function socket_on_message(evt) {\n",
       "        if (evt.data instanceof Blob) {\n",
       "            /* FIXME: We get \"Resource interpreted as Image but\n",
       "             * transferred with MIME type text/plain:\" errors on\n",
       "             * Chrome.  But how to set the MIME type?  It doesn't seem\n",
       "             * to be part of the websocket stream */\n",
       "            evt.data.type = \"image/png\";\n",
       "\n",
       "            /* Free the memory for the previous frames */\n",
       "            if (fig.imageObj.src) {\n",
       "                (window.URL || window.webkitURL).revokeObjectURL(\n",
       "                    fig.imageObj.src);\n",
       "            }\n",
       "\n",
       "            fig.imageObj.src = (window.URL || window.webkitURL).createObjectURL(\n",
       "                evt.data);\n",
       "            fig.updated_canvas_event();\n",
       "            fig.waiting = false;\n",
       "            return;\n",
       "        }\n",
       "        else if (typeof evt.data === 'string' && evt.data.slice(0, 21) == \"data:image/png;base64\") {\n",
       "            fig.imageObj.src = evt.data;\n",
       "            fig.updated_canvas_event();\n",
       "            fig.waiting = false;\n",
       "            return;\n",
       "        }\n",
       "\n",
       "        var msg = JSON.parse(evt.data);\n",
       "        var msg_type = msg['type'];\n",
       "\n",
       "        // Call the  \"handle_{type}\" callback, which takes\n",
       "        // the figure and JSON message as its only arguments.\n",
       "        try {\n",
       "            var callback = fig[\"handle_\" + msg_type];\n",
       "        } catch (e) {\n",
       "            console.log(\"No handler for the '\" + msg_type + \"' message type: \", msg);\n",
       "            return;\n",
       "        }\n",
       "\n",
       "        if (callback) {\n",
       "            try {\n",
       "                // console.log(\"Handling '\" + msg_type + \"' message: \", msg);\n",
       "                callback(fig, msg);\n",
       "            } catch (e) {\n",
       "                console.log(\"Exception inside the 'handler_\" + msg_type + \"' callback:\", e, e.stack, msg);\n",
       "            }\n",
       "        }\n",
       "    };\n",
       "}\n",
       "\n",
       "// from http://stackoverflow.com/questions/1114465/getting-mouse-location-in-canvas\n",
       "mpl.findpos = function(e) {\n",
       "    //this section is from http://www.quirksmode.org/js/events_properties.html\n",
       "    var targ;\n",
       "    if (!e)\n",
       "        e = window.event;\n",
       "    if (e.target)\n",
       "        targ = e.target;\n",
       "    else if (e.srcElement)\n",
       "        targ = e.srcElement;\n",
       "    if (targ.nodeType == 3) // defeat Safari bug\n",
       "        targ = targ.parentNode;\n",
       "\n",
       "    // jQuery normalizes the pageX and pageY\n",
       "    // pageX,Y are the mouse positions relative to the document\n",
       "    // offset() returns the position of the element relative to the document\n",
       "    var x = e.pageX - $(targ).offset().left;\n",
       "    var y = e.pageY - $(targ).offset().top;\n",
       "\n",
       "    return {\"x\": x, \"y\": y};\n",
       "};\n",
       "\n",
       "/*\n",
       " * return a copy of an object with only non-object keys\n",
       " * we need this to avoid circular references\n",
       " * http://stackoverflow.com/a/24161582/3208463\n",
       " */\n",
       "function simpleKeys (original) {\n",
       "  return Object.keys(original).reduce(function (obj, key) {\n",
       "    if (typeof original[key] !== 'object')\n",
       "        obj[key] = original[key]\n",
       "    return obj;\n",
       "  }, {});\n",
       "}\n",
       "\n",
       "mpl.figure.prototype.mouse_event = function(event, name) {\n",
       "    var canvas_pos = mpl.findpos(event)\n",
       "\n",
       "    if (name === 'button_press')\n",
       "    {\n",
       "        this.canvas.focus();\n",
       "        this.canvas_div.focus();\n",
       "    }\n",
       "\n",
       "    var x = canvas_pos.x * mpl.ratio;\n",
       "    var y = canvas_pos.y * mpl.ratio;\n",
       "\n",
       "    this.send_message(name, {x: x, y: y, button: event.button,\n",
       "                             step: event.step,\n",
       "                             guiEvent: simpleKeys(event)});\n",
       "\n",
       "    /* This prevents the web browser from automatically changing to\n",
       "     * the text insertion cursor when the button is pressed.  We want\n",
       "     * to control all of the cursor setting manually through the\n",
       "     * 'cursor' event from matplotlib */\n",
       "    event.preventDefault();\n",
       "    return false;\n",
       "}\n",
       "\n",
       "mpl.figure.prototype._key_event_extra = function(event, name) {\n",
       "    // Handle any extra behaviour associated with a key event\n",
       "}\n",
       "\n",
       "mpl.figure.prototype.key_event = function(event, name) {\n",
       "\n",
       "    // Prevent repeat events\n",
       "    if (name == 'key_press')\n",
       "    {\n",
       "        if (event.which === this._key)\n",
       "            return;\n",
       "        else\n",
       "            this._key = event.which;\n",
       "    }\n",
       "    if (name == 'key_release')\n",
       "        this._key = null;\n",
       "\n",
       "    var value = '';\n",
       "    if (event.ctrlKey && event.which != 17)\n",
       "        value += \"ctrl+\";\n",
       "    if (event.altKey && event.which != 18)\n",
       "        value += \"alt+\";\n",
       "    if (event.shiftKey && event.which != 16)\n",
       "        value += \"shift+\";\n",
       "\n",
       "    value += 'k';\n",
       "    value += event.which.toString();\n",
       "\n",
       "    this._key_event_extra(event, name);\n",
       "\n",
       "    this.send_message(name, {key: value,\n",
       "                             guiEvent: simpleKeys(event)});\n",
       "    return false;\n",
       "}\n",
       "\n",
       "mpl.figure.prototype.toolbar_button_onclick = function(name) {\n",
       "    if (name == 'download') {\n",
       "        this.handle_save(this, null);\n",
       "    } else {\n",
       "        this.send_message(\"toolbar_button\", {name: name});\n",
       "    }\n",
       "};\n",
       "\n",
       "mpl.figure.prototype.toolbar_button_onmouseover = function(tooltip) {\n",
       "    this.message.textContent = tooltip;\n",
       "};\n",
       "mpl.toolbar_items = [[\"Home\", \"Reset original view\", \"fa fa-home icon-home\", \"home\"], [\"Back\", \"Back to  previous view\", \"fa fa-arrow-left icon-arrow-left\", \"back\"], [\"Forward\", \"Forward to next view\", \"fa fa-arrow-right icon-arrow-right\", \"forward\"], [\"\", \"\", \"\", \"\"], [\"Pan\", \"Pan axes with left mouse, zoom with right\", \"fa fa-arrows icon-move\", \"pan\"], [\"Zoom\", \"Zoom to rectangle\", \"fa fa-square-o icon-check-empty\", \"zoom\"], [\"\", \"\", \"\", \"\"], [\"Download\", \"Download plot\", \"fa fa-floppy-o icon-save\", \"download\"]];\n",
       "\n",
       "mpl.extensions = [\"eps\", \"jpeg\", \"pdf\", \"png\", \"ps\", \"raw\", \"svg\", \"tif\"];\n",
       "\n",
       "mpl.default_extension = \"png\";var comm_websocket_adapter = function(comm) {\n",
       "    // Create a \"websocket\"-like object which calls the given IPython comm\n",
       "    // object with the appropriate methods. Currently this is a non binary\n",
       "    // socket, so there is still some room for performance tuning.\n",
       "    var ws = {};\n",
       "\n",
       "    ws.close = function() {\n",
       "        comm.close()\n",
       "    };\n",
       "    ws.send = function(m) {\n",
       "        //console.log('sending', m);\n",
       "        comm.send(m);\n",
       "    };\n",
       "    // Register the callback with on_msg.\n",
       "    comm.on_msg(function(msg) {\n",
       "        //console.log('receiving', msg['content']['data'], msg);\n",
       "        // Pass the mpl event to the overriden (by mpl) onmessage function.\n",
       "        ws.onmessage(msg['content']['data'])\n",
       "    });\n",
       "    return ws;\n",
       "}\n",
       "\n",
       "mpl.mpl_figure_comm = function(comm, msg) {\n",
       "    // This is the function which gets called when the mpl process\n",
       "    // starts-up an IPython Comm through the \"matplotlib\" channel.\n",
       "\n",
       "    var id = msg.content.data.id;\n",
       "    // Get hold of the div created by the display call when the Comm\n",
       "    // socket was opened in Python.\n",
       "    var element = $(\"#\" + id);\n",
       "    var ws_proxy = comm_websocket_adapter(comm)\n",
       "\n",
       "    function ondownload(figure, format) {\n",
       "        window.open(figure.imageObj.src);\n",
       "    }\n",
       "\n",
       "    var fig = new mpl.figure(id, ws_proxy,\n",
       "                           ondownload,\n",
       "                           element.get(0));\n",
       "\n",
       "    // Call onopen now - mpl needs it, as it is assuming we've passed it a real\n",
       "    // web socket which is closed, not our websocket->open comm proxy.\n",
       "    ws_proxy.onopen();\n",
       "\n",
       "    fig.parent_element = element.get(0);\n",
       "    fig.cell_info = mpl.find_output_cell(\"<div id='\" + id + \"'></div>\");\n",
       "    if (!fig.cell_info) {\n",
       "        console.error(\"Failed to find cell for figure\", id, fig);\n",
       "        return;\n",
       "    }\n",
       "\n",
       "    var output_index = fig.cell_info[2]\n",
       "    var cell = fig.cell_info[0];\n",
       "\n",
       "};\n",
       "\n",
       "mpl.figure.prototype.handle_close = function(fig, msg) {\n",
       "    var width = fig.canvas.width/mpl.ratio\n",
       "    fig.root.unbind('remove')\n",
       "\n",
       "    // Update the output cell to use the data from the current canvas.\n",
       "    fig.push_to_output();\n",
       "    var dataURL = fig.canvas.toDataURL();\n",
       "    // Re-enable the keyboard manager in IPython - without this line, in FF,\n",
       "    // the notebook keyboard shortcuts fail.\n",
       "    IPython.keyboard_manager.enable()\n",
       "    $(fig.parent_element).html('<img src=\"' + dataURL + '\" width=\"' + width + '\">');\n",
       "    fig.close_ws(fig, msg);\n",
       "}\n",
       "\n",
       "mpl.figure.prototype.close_ws = function(fig, msg){\n",
       "    fig.send_message('closing', msg);\n",
       "    // fig.ws.close()\n",
       "}\n",
       "\n",
       "mpl.figure.prototype.push_to_output = function(remove_interactive) {\n",
       "    // Turn the data on the canvas into data in the output cell.\n",
       "    var width = this.canvas.width/mpl.ratio\n",
       "    var dataURL = this.canvas.toDataURL();\n",
       "    this.cell_info[1]['text/html'] = '<img src=\"' + dataURL + '\" width=\"' + width + '\">';\n",
       "}\n",
       "\n",
       "mpl.figure.prototype.updated_canvas_event = function() {\n",
       "    // Tell IPython that the notebook contents must change.\n",
       "    IPython.notebook.set_dirty(true);\n",
       "    this.send_message(\"ack\", {});\n",
       "    var fig = this;\n",
       "    // Wait a second, then push the new image to the DOM so\n",
       "    // that it is saved nicely (might be nice to debounce this).\n",
       "    setTimeout(function () { fig.push_to_output() }, 1000);\n",
       "}\n",
       "\n",
       "mpl.figure.prototype._init_toolbar = function() {\n",
       "    var fig = this;\n",
       "\n",
       "    var nav_element = $('<div/>')\n",
       "    nav_element.attr('style', 'width: 100%');\n",
       "    this.root.append(nav_element);\n",
       "\n",
       "    // Define a callback function for later on.\n",
       "    function toolbar_event(event) {\n",
       "        return fig.toolbar_button_onclick(event['data']);\n",
       "    }\n",
       "    function toolbar_mouse_event(event) {\n",
       "        return fig.toolbar_button_onmouseover(event['data']);\n",
       "    }\n",
       "\n",
       "    for(var toolbar_ind in mpl.toolbar_items){\n",
       "        var name = mpl.toolbar_items[toolbar_ind][0];\n",
       "        var tooltip = mpl.toolbar_items[toolbar_ind][1];\n",
       "        var image = mpl.toolbar_items[toolbar_ind][2];\n",
       "        var method_name = mpl.toolbar_items[toolbar_ind][3];\n",
       "\n",
       "        if (!name) { continue; };\n",
       "\n",
       "        var button = $('<button class=\"btn btn-default\" href=\"#\" title=\"' + name + '\"><i class=\"fa ' + image + ' fa-lg\"></i></button>');\n",
       "        button.click(method_name, toolbar_event);\n",
       "        button.mouseover(tooltip, toolbar_mouse_event);\n",
       "        nav_element.append(button);\n",
       "    }\n",
       "\n",
       "    // Add the status bar.\n",
       "    var status_bar = $('<span class=\"mpl-message\" style=\"text-align:right; float: right;\"/>');\n",
       "    nav_element.append(status_bar);\n",
       "    this.message = status_bar[0];\n",
       "\n",
       "    // Add the close button to the window.\n",
       "    var buttongrp = $('<div class=\"btn-group inline pull-right\"></div>');\n",
       "    var button = $('<button class=\"btn btn-mini btn-primary\" href=\"#\" title=\"Stop Interaction\"><i class=\"fa fa-power-off icon-remove icon-large\"></i></button>');\n",
       "    button.click(function (evt) { fig.handle_close(fig, {}); } );\n",
       "    button.mouseover('Stop Interaction', toolbar_mouse_event);\n",
       "    buttongrp.append(button);\n",
       "    var titlebar = this.root.find($('.ui-dialog-titlebar'));\n",
       "    titlebar.prepend(buttongrp);\n",
       "}\n",
       "\n",
       "mpl.figure.prototype._root_extra_style = function(el){\n",
       "    var fig = this\n",
       "    el.on(\"remove\", function(){\n",
       "\tfig.close_ws(fig, {});\n",
       "    });\n",
       "}\n",
       "\n",
       "mpl.figure.prototype._canvas_extra_style = function(el){\n",
       "    // this is important to make the div 'focusable\n",
       "    el.attr('tabindex', 0)\n",
       "    // reach out to IPython and tell the keyboard manager to turn it's self\n",
       "    // off when our div gets focus\n",
       "\n",
       "    // location in version 3\n",
       "    if (IPython.notebook.keyboard_manager) {\n",
       "        IPython.notebook.keyboard_manager.register_events(el);\n",
       "    }\n",
       "    else {\n",
       "        // location in version 2\n",
       "        IPython.keyboard_manager.register_events(el);\n",
       "    }\n",
       "\n",
       "}\n",
       "\n",
       "mpl.figure.prototype._key_event_extra = function(event, name) {\n",
       "    var manager = IPython.notebook.keyboard_manager;\n",
       "    if (!manager)\n",
       "        manager = IPython.keyboard_manager;\n",
       "\n",
       "    // Check for shift+enter\n",
       "    if (event.shiftKey && event.which == 13) {\n",
       "        this.canvas_div.blur();\n",
       "        // select the cell after this one\n",
       "        var index = IPython.notebook.find_cell_index(this.cell_info[0]);\n",
       "        IPython.notebook.select(index + 1);\n",
       "    }\n",
       "}\n",
       "\n",
       "mpl.figure.prototype.handle_save = function(fig, msg) {\n",
       "    fig.ondownload(fig, null);\n",
       "}\n",
       "\n",
       "\n",
       "mpl.find_output_cell = function(html_output) {\n",
       "    // Return the cell and output element which can be found *uniquely* in the notebook.\n",
       "    // Note - this is a bit hacky, but it is done because the \"notebook_saving.Notebook\"\n",
       "    // IPython event is triggered only after the cells have been serialised, which for\n",
       "    // our purposes (turning an active figure into a static one), is too late.\n",
       "    var cells = IPython.notebook.get_cells();\n",
       "    var ncells = cells.length;\n",
       "    for (var i=0; i<ncells; i++) {\n",
       "        var cell = cells[i];\n",
       "        if (cell.cell_type === 'code'){\n",
       "            for (var j=0; j<cell.output_area.outputs.length; j++) {\n",
       "                var data = cell.output_area.outputs[j];\n",
       "                if (data.data) {\n",
       "                    // IPython >= 3 moved mimebundle to data attribute of output\n",
       "                    data = data.data;\n",
       "                }\n",
       "                if (data['text/html'] == html_output) {\n",
       "                    return [cell, data, j];\n",
       "                }\n",
       "            }\n",
       "        }\n",
       "    }\n",
       "}\n",
       "\n",
       "// Register the function which deals with the matplotlib target/channel.\n",
       "// The kernel may be null if the page has been refreshed.\n",
       "if (IPython.notebook.kernel != null) {\n",
       "    IPython.notebook.kernel.comm_manager.register_target('matplotlib', mpl.mpl_figure_comm);\n",
       "}\n"
      ],
      "text/plain": [
       "<IPython.core.display.Javascript object>"
      ]
     },
     "metadata": {},
     "output_type": "display_data"
    },
    {
     "data": {
      "text/html": [
       "<img src=\"data:image/png;base64,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\" width=\"640\">"
      ],
      "text/plain": [
       "<IPython.core.display.HTML object>"
      ]
     },
     "metadata": {},
     "output_type": "display_data"
    },
    {
     "data": {
      "text/plain": [
       "[<matplotlib.lines.Line2D at 0x7f8daf0531d0>]"
      ]
     },
     "execution_count": 4,
     "metadata": {},
     "output_type": "execute_result"
    }
   ],
   "source": [
    "# because the default is the line style '-', \n",
    "# nothing will be shown if we only pass in one point (3,2)\n",
    "plt.plot(3, 2)"
   ]
  },
  {
   "cell_type": "code",
   "execution_count": 5,
   "metadata": {
    "collapsed": false
   },
   "outputs": [
    {
     "data": {
      "text/plain": [
       "[<matplotlib.lines.Line2D at 0x7f8daf042cf8>]"
      ]
     },
     "execution_count": 5,
     "metadata": {},
     "output_type": "execute_result"
    }
   ],
   "source": [
    "# we can pass in '.' to plt.plot to indicate that we want\n",
    "# the point (3,2) to be indicated with a marker '.'\n",
    "plt.plot(3, 2, '.')"
   ]
  },
  {
   "cell_type": "markdown",
   "metadata": {},
   "source": [
    "Let's see how to make a plot without using the scripting layer."
   ]
  },
  {
   "cell_type": "code",
   "execution_count": null,
   "metadata": {
    "collapsed": false
   },
   "outputs": [],
   "source": [
    "# First let's set the backend without using mpl.use() from the scripting layer\n",
    "from matplotlib.backends.backend_agg import FigureCanvasAgg\n",
    "from matplotlib.figure import Figure\n",
    "\n",
    "# create a new figure\n",
    "fig = Figure()\n",
    "\n",
    "# associate fig with the backend\n",
    "canvas = FigureCanvasAgg(fig)\n",
    "\n",
    "# add a subplot to the fig\n",
    "ax = fig.add_subplot(111)\n",
    "\n",
    "# plot the point (3,2)\n",
    "ax.plot(3, 2, '.')\n",
    "\n",
    "# save the figure to test.png\n",
    "# you can see this figure in your Jupyter workspace afterwards by going to\n",
    "# https://hub.coursera-notebooks.org/\n",
    "canvas.print_png('test.png')"
   ]
  },
  {
   "cell_type": "markdown",
   "metadata": {},
   "source": [
    "We can use html cell magic to display the image."
   ]
  },
  {
   "cell_type": "code",
   "execution_count": null,
   "metadata": {
    "collapsed": false
   },
   "outputs": [],
   "source": [
    "%%html\n",
    "<img src='test.png' />"
   ]
  },
  {
   "cell_type": "code",
   "execution_count": null,
   "metadata": {
    "collapsed": false
   },
   "outputs": [],
   "source": [
    "# create a new figure\n",
    "plt.figure()\n",
    "\n",
    "# plot the point (3,2) using the circle marker\n",
    "plt.plot(3, 2, 'o')\n",
    "\n",
    "# get the current axes\n",
    "ax = plt.gca()\n",
    "\n",
    "# Set axis properties [xmin, xmax, ymin, ymax]\n",
    "ax.axis([0,6,0,10])"
   ]
  },
  {
   "cell_type": "code",
   "execution_count": null,
   "metadata": {
    "collapsed": false
   },
   "outputs": [],
   "source": [
    "# create a new figure\n",
    "plt.figure()\n",
    "\n",
    "# plot the point (1.5, 1.5) using the circle marker\n",
    "plt.plot(1.5, 1.5, 'o')\n",
    "# plot the point (2, 2) using the circle marker\n",
    "plt.plot(2, 2, 'o')\n",
    "# plot the point (2.5, 2.5) using the circle marker\n",
    "plt.plot(2.5, 2.5, 'o')"
   ]
  },
  {
   "cell_type": "code",
   "execution_count": null,
   "metadata": {
    "collapsed": false
   },
   "outputs": [],
   "source": [
    "# get current axes\n",
    "ax = plt.gca()\n",
    "# get all the child objects the axes contains\n",
    "ax.get_children()"
   ]
  },
  {
   "cell_type": "markdown",
   "metadata": {},
   "source": [
    "# Scatterplots"
   ]
  },
  {
   "cell_type": "code",
   "execution_count": null,
   "metadata": {
    "collapsed": false,
    "scrolled": false
   },
   "outputs": [],
   "source": [
    "import numpy as np\n",
    "\n",
    "x = np.array([1,2,3,4,5,6,7,8])\n",
    "y = x\n",
    "\n",
    "plt.figure()\n",
    "plt.scatter(x, y) # similar to plt.plot(x, y, '.'), but the underlying child objects in the axes are not Line2D"
   ]
  },
  {
   "cell_type": "code",
   "execution_count": null,
   "metadata": {
    "collapsed": false
   },
   "outputs": [],
   "source": [
    "import numpy as np\n",
    "\n",
    "x = np.array([1,2,3,4,5,6,7,8])\n",
    "y = x\n",
    "\n",
    "# create a list of colors for each point to have\n",
    "# ['green', 'green', 'green', 'green', 'green', 'green', 'green', 'red']\n",
    "colors = ['green']*(len(x)-1)\n",
    "colors.append('red')\n",
    "\n",
    "plt.figure()\n",
    "\n",
    "# plot the point with size 100 and chosen colors\n",
    "plt.scatter(x, y, s=100, c=colors)"
   ]
  },
  {
   "cell_type": "code",
   "execution_count": null,
   "metadata": {
    "collapsed": false
   },
   "outputs": [],
   "source": [
    "# convert the two lists into a list of pairwise tuples\n",
    "zip_generator = zip([1,2,3,4,5], [6,7,8,9,10])\n",
    "\n",
    "print(list(zip_generator))\n",
    "# the above prints:\n",
    "# [(1, 6), (2, 7), (3, 8), (4, 9), (5, 10)]\n",
    "\n",
    "zip_generator = zip([1,2,3,4,5], [6,7,8,9,10])\n",
    "# The single star * unpacks a collection into positional arguments\n",
    "print(*zip_generator)\n",
    "# the above prints:\n",
    "# (1, 6) (2, 7) (3, 8) (4, 9) (5, 10)"
   ]
  },
  {
   "cell_type": "code",
   "execution_count": null,
   "metadata": {
    "collapsed": false
   },
   "outputs": [],
   "source": [
    "# use zip to convert 5 tuples with 2 elements each to 2 tuples with 5 elements each\n",
    "print(list(zip((1, 6), (2, 7), (3, 8), (4, 9), (5, 10))))\n",
    "# the above prints:\n",
    "# [(1, 2, 3, 4, 5), (6, 7, 8, 9, 10)]\n",
    "\n",
    "\n",
    "zip_generator = zip([1,2,3,4,5], [6,7,8,9,10])\n",
    "# let's turn the data back into 2 lists\n",
    "x, y = zip(*zip_generator) # This is like calling zip((1, 6), (2, 7), (3, 8), (4, 9), (5, 10))\n",
    "print(x)\n",
    "print(y)\n",
    "# the above prints:\n",
    "# (1, 2, 3, 4, 5)\n",
    "# (6, 7, 8, 9, 10)"
   ]
  },
  {
   "cell_type": "code",
   "execution_count": null,
   "metadata": {
    "collapsed": false
   },
   "outputs": [],
   "source": [
    "plt.figure()\n",
    "# plot a data series 'Tall students' in red using the first two elements of x and y\n",
    "plt.scatter(x[:2], y[:2], s=100, c='red', label='Tall students')\n",
    "# plot a second data series 'Short students' in blue using the last three elements of x and y \n",
    "plt.scatter(x[2:], y[2:], s=100, c='blue', label='Short students')"
   ]
  },
  {
   "cell_type": "code",
   "execution_count": null,
   "metadata": {
    "collapsed": false
   },
   "outputs": [],
   "source": [
    "# add a label to the x axis\n",
    "plt.xlabel('The number of times the child kicked a ball')\n",
    "# add a label to the y axis\n",
    "plt.ylabel('The grade of the student')\n",
    "# add a title\n",
    "plt.title('Relationship between ball kicking and grades')"
   ]
  },
  {
   "cell_type": "code",
   "execution_count": null,
   "metadata": {
    "collapsed": false
   },
   "outputs": [],
   "source": [
    "# add a legend (uses the labels from plt.scatter)\n",
    "plt.legend()"
   ]
  },
  {
   "cell_type": "code",
   "execution_count": null,
   "metadata": {
    "collapsed": false
   },
   "outputs": [],
   "source": [
    "# add the legend to loc=4 (the lower right hand corner), also gets rid of the frame and adds a title\n",
    "plt.legend(loc=4, frameon=False, title='Legend')"
   ]
  },
  {
   "cell_type": "code",
   "execution_count": null,
   "metadata": {
    "collapsed": false
   },
   "outputs": [],
   "source": [
    "# get children from current axes (the legend is the second to last item in this list)\n",
    "plt.gca().get_children()"
   ]
  },
  {
   "cell_type": "code",
   "execution_count": null,
   "metadata": {
    "collapsed": true
   },
   "outputs": [],
   "source": [
    "# get the legend from the current axes\n",
    "legend = plt.gca().get_children()[-2]"
   ]
  },
  {
   "cell_type": "code",
   "execution_count": null,
   "metadata": {
    "collapsed": false
   },
   "outputs": [],
   "source": [
    "# you can use get_children to navigate through the child artists\n",
    "legend.get_children()[0].get_children()[1].get_children()[0].get_children()"
   ]
  },
  {
   "cell_type": "code",
   "execution_count": null,
   "metadata": {
    "collapsed": false
   },
   "outputs": [],
   "source": [
    "# import the artist class from matplotlib\n",
    "from matplotlib.artist import Artist\n",
    "\n",
    "def rec_gc(art, depth=0):\n",
    "    if isinstance(art, Artist):\n",
    "        # increase the depth for pretty printing\n",
    "        print(\"  \" * depth + str(art))\n",
    "        for child in art.get_children():\n",
    "            rec_gc(child, depth+2)\n",
    "\n",
    "# Call this function on the legend artist to see what the legend is made up of\n",
    "rec_gc(plt.legend())"
   ]
  },
  {
   "cell_type": "markdown",
   "metadata": {},
   "source": [
    "# Line Plots"
   ]
  },
  {
   "cell_type": "code",
   "execution_count": null,
   "metadata": {
    "collapsed": false
   },
   "outputs": [],
   "source": [
    "import numpy as np\n",
    "\n",
    "linear_data = np.array([1,2,3,4,5,6,7,8])\n",
    "exponential_data = linear_data**2\n",
    "\n",
    "plt.figure()\n",
    "# plot the linear data and the exponential data\n",
    "plt.plot(linear_data, '-o', exponential_data, '-o')"
   ]
  },
  {
   "cell_type": "code",
   "execution_count": null,
   "metadata": {
    "collapsed": false
   },
   "outputs": [],
   "source": [
    "# plot another series with a dashed red line\n",
    "plt.plot([22,44,55], '--r')"
   ]
  },
  {
   "cell_type": "code",
   "execution_count": null,
   "metadata": {
    "collapsed": false
   },
   "outputs": [],
   "source": [
    "plt.xlabel('Some data')\n",
    "plt.ylabel('Some other data')\n",
    "plt.title('A title')\n",
    "# add a legend with legend entries (because we didn't have labels when we plotted the data series)\n",
    "plt.legend(['Baseline', 'Competition', 'Us'])"
   ]
  },
  {
   "cell_type": "code",
   "execution_count": null,
   "metadata": {
    "collapsed": false
   },
   "outputs": [],
   "source": [
    "# fill the area between the linear data and exponential data\n",
    "plt.gca().fill_between(range(len(linear_data)), \n",
    "                       linear_data, exponential_data, \n",
    "                       facecolor='blue', \n",
    "                       alpha=0.25)"
   ]
  },
  {
   "cell_type": "markdown",
   "metadata": {},
   "source": [
    "Let's try working with dates!"
   ]
  },
  {
   "cell_type": "code",
   "execution_count": null,
   "metadata": {
    "collapsed": false
   },
   "outputs": [],
   "source": [
    "plt.figure()\n",
    "\n",
    "observation_dates = np.arange('2017-01-01', '2017-01-09', dtype='datetime64[D]')\n",
    "\n",
    "plt.plot(observation_dates, linear_data, '-o',  observation_dates, exponential_data, '-o')"
   ]
  },
  {
   "cell_type": "markdown",
   "metadata": {},
   "source": [
    "Let's try using pandas"
   ]
  },
  {
   "cell_type": "code",
   "execution_count": null,
   "metadata": {
    "collapsed": false
   },
   "outputs": [],
   "source": [
    "import pandas as pd\n",
    "\n",
    "plt.figure()\n",
    "observation_dates = np.arange('2017-01-01', '2017-01-09', dtype='datetime64[D]')\n",
    "observation_dates = map(pd.to_datetime, observation_dates) # trying to plot a map will result in an error\n",
    "plt.plot(observation_dates, linear_data, '-o',  observation_dates, exponential_data, '-o')"
   ]
  },
  {
   "cell_type": "code",
   "execution_count": null,
   "metadata": {
    "collapsed": false
   },
   "outputs": [],
   "source": [
    "plt.figure()\n",
    "observation_dates = np.arange('2017-01-01', '2017-01-09', dtype='datetime64[D]')\n",
    "observation_dates = list(map(pd.to_datetime, observation_dates)) # convert the map to a list to get rid of the error\n",
    "plt.plot(observation_dates, linear_data, '-o',  observation_dates, exponential_data, '-o')"
   ]
  },
  {
   "cell_type": "code",
   "execution_count": null,
   "metadata": {
    "collapsed": false
   },
   "outputs": [],
   "source": [
    "x = plt.gca().xaxis\n",
    "\n",
    "# rotate the tick labels for the x axis\n",
    "for item in x.get_ticklabels():\n",
    "    item.set_rotation(45)"
   ]
  },
  {
   "cell_type": "code",
   "execution_count": null,
   "metadata": {
    "collapsed": false
   },
   "outputs": [],
   "source": [
    "# adjust the subplot so the text doesn't run off the image\n",
    "plt.subplots_adjust(bottom=0.25)"
   ]
  },
  {
   "cell_type": "code",
   "execution_count": null,
   "metadata": {
    "collapsed": false
   },
   "outputs": [],
   "source": [
    "ax = plt.gca()\n",
    "ax.set_xlabel('Date')\n",
    "ax.set_ylabel('Units')\n",
    "ax.set_title('Exponential vs. Linear performance')"
   ]
  },
  {
   "cell_type": "code",
   "execution_count": null,
   "metadata": {
    "collapsed": false
   },
   "outputs": [],
   "source": [
    "# you can add mathematical expressions in any text element\n",
    "ax.set_title(\"Exponential ($x^2$) vs. Linear ($x$) performance\")"
   ]
  },
  {
   "cell_type": "markdown",
   "metadata": {},
   "source": [
    "# Bar Charts"
   ]
  },
  {
   "cell_type": "code",
   "execution_count": null,
   "metadata": {
    "collapsed": false
   },
   "outputs": [],
   "source": [
    "plt.figure()\n",
    "xvals = range(len(linear_data))\n",
    "plt.bar(xvals, linear_data, width = 0.3)"
   ]
  },
  {
   "cell_type": "code",
   "execution_count": null,
   "metadata": {
    "collapsed": false
   },
   "outputs": [],
   "source": [
    "new_xvals = []\n",
    "\n",
    "# plot another set of bars, adjusting the new xvals to make up for the first set of bars plotted\n",
    "for item in xvals:\n",
    "    new_xvals.append(item+0.3)\n",
    "\n",
    "plt.bar(new_xvals, exponential_data, width = 0.3 ,color='red')"
   ]
  },
  {
   "cell_type": "code",
   "execution_count": null,
   "metadata": {
    "collapsed": false,
    "scrolled": true
   },
   "outputs": [],
   "source": [
    "from random import randint\n",
    "linear_err = [randint(0,15) for x in range(len(linear_data))] \n",
    "\n",
    "# This will plot a new set of bars with errorbars using the list of random error values\n",
    "plt.bar(xvals, linear_data, width = 0.3, yerr=linear_err)"
   ]
  },
  {
   "cell_type": "code",
   "execution_count": null,
   "metadata": {
    "collapsed": false
   },
   "outputs": [],
   "source": [
    "# stacked bar charts are also possible\n",
    "plt.figure()\n",
    "xvals = range(len(linear_data))\n",
    "plt.bar(xvals, linear_data, width = 0.3, color='b')\n",
    "plt.bar(xvals, exponential_data, width = 0.3, bottom=linear_data, color='r')"
   ]
  },
  {
   "cell_type": "code",
   "execution_count": null,
   "metadata": {
    "collapsed": false
   },
   "outputs": [],
   "source": [
    "# or use barh for horizontal bar charts\n",
    "plt.figure()\n",
    "xvals = range(len(linear_data))\n",
    "plt.barh(xvals, linear_data, height = 0.3, color='b')\n",
    "plt.barh(xvals, exponential_data, height = 0.3, left=linear_data, color='r')"
   ]
  }
 ],
 "metadata": {
  "kernelspec": {
   "display_name": "Python 3",
   "language": "python",
   "name": "python3"
  },
  "language_info": {
   "codemirror_mode": {
    "name": "ipython",
    "version": 3
   },
   "file_extension": ".py",
   "mimetype": "text/x-python",
   "name": "python",
   "nbconvert_exporter": "python",
   "pygments_lexer": "ipython3",
   "version": "3.6.2"
  }
 },
 "nbformat": 4,
 "nbformat_minor": 1
}
